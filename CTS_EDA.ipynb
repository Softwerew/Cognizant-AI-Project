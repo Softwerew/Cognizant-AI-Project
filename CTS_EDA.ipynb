{
 "cells": [
  {
   "cell_type": "markdown",
   "id": "8c49e0ee",
   "metadata": {},
   "source": [
    "## Import necessary libraries"
   ]
  },
  {
   "cell_type": "code",
   "execution_count": 1,
   "id": "8c8f6a98",
   "metadata": {},
   "outputs": [],
   "source": [
    "import pandas as pd\n",
    "import numpy as np\n",
    "import matplotlib.pyplot as plt\n",
    "%matplotlib inline\n",
    "import seaborn as sns\n",
    "from pylab import rcParams\n",
    "from statsmodels.stats.outliers_influence import variance_inflation_factor\n",
    "rcParams['figure.figsize'] = (12,6)\n",
    "sns.set()\n",
    "import statistics\n",
    "import warnings\n",
    "warnings.filterwarnings('ignore')"
   ]
  },
  {
   "cell_type": "markdown",
   "id": "2818a574",
   "metadata": {},
   "source": [
    "## Import Dataset"
   ]
  },
  {
   "cell_type": "code",
   "execution_count": 2,
   "id": "494aed94",
   "metadata": {},
   "outputs": [
    {
     "data": {
      "text/html": [
       "<div>\n",
       "<style scoped>\n",
       "    .dataframe tbody tr th:only-of-type {\n",
       "        vertical-align: middle;\n",
       "    }\n",
       "\n",
       "    .dataframe tbody tr th {\n",
       "        vertical-align: top;\n",
       "    }\n",
       "\n",
       "    .dataframe thead th {\n",
       "        text-align: right;\n",
       "    }\n",
       "</style>\n",
       "<table border=\"1\" class=\"dataframe\">\n",
       "  <thead>\n",
       "    <tr style=\"text-align: right;\">\n",
       "      <th></th>\n",
       "      <th>Unnamed: 0</th>\n",
       "      <th>transaction_id</th>\n",
       "      <th>timestamp</th>\n",
       "      <th>product_id</th>\n",
       "      <th>category</th>\n",
       "      <th>customer_type</th>\n",
       "      <th>unit_price</th>\n",
       "      <th>quantity</th>\n",
       "      <th>total</th>\n",
       "      <th>payment_type</th>\n",
       "    </tr>\n",
       "  </thead>\n",
       "  <tbody>\n",
       "    <tr>\n",
       "      <th>0</th>\n",
       "      <td>0</td>\n",
       "      <td>a1c82654-c52c-45b3-8ce8-4c2a1efe63ed</td>\n",
       "      <td>2022-03-02 09:51:38</td>\n",
       "      <td>3bc6c1ea-0198-46de-9ffd-514ae3338713</td>\n",
       "      <td>fruit</td>\n",
       "      <td>gold</td>\n",
       "      <td>3.99</td>\n",
       "      <td>2</td>\n",
       "      <td>7.98</td>\n",
       "      <td>e-wallet</td>\n",
       "    </tr>\n",
       "    <tr>\n",
       "      <th>1</th>\n",
       "      <td>1</td>\n",
       "      <td>931ad550-09e8-4da6-beaa-8c9d17be9c60</td>\n",
       "      <td>2022-03-06 10:33:59</td>\n",
       "      <td>ad81b46c-bf38-41cf-9b54-5fe7f5eba93e</td>\n",
       "      <td>fruit</td>\n",
       "      <td>standard</td>\n",
       "      <td>3.99</td>\n",
       "      <td>1</td>\n",
       "      <td>3.99</td>\n",
       "      <td>e-wallet</td>\n",
       "    </tr>\n",
       "    <tr>\n",
       "      <th>2</th>\n",
       "      <td>2</td>\n",
       "      <td>ae133534-6f61-4cd6-b6b8-d1c1d8d90aea</td>\n",
       "      <td>2022-03-04 17:20:21</td>\n",
       "      <td>7c55cbd4-f306-4c04-a030-628cbe7867c1</td>\n",
       "      <td>fruit</td>\n",
       "      <td>premium</td>\n",
       "      <td>0.19</td>\n",
       "      <td>2</td>\n",
       "      <td>0.38</td>\n",
       "      <td>e-wallet</td>\n",
       "    </tr>\n",
       "    <tr>\n",
       "      <th>3</th>\n",
       "      <td>3</td>\n",
       "      <td>157cebd9-aaf0-475d-8a11-7c8e0f5b76e4</td>\n",
       "      <td>2022-03-02 17:23:58</td>\n",
       "      <td>80da8348-1707-403f-8be7-9e6deeccc883</td>\n",
       "      <td>fruit</td>\n",
       "      <td>gold</td>\n",
       "      <td>0.19</td>\n",
       "      <td>4</td>\n",
       "      <td>0.76</td>\n",
       "      <td>e-wallet</td>\n",
       "    </tr>\n",
       "    <tr>\n",
       "      <th>4</th>\n",
       "      <td>4</td>\n",
       "      <td>a81a6cd3-5e0c-44a2-826c-aea43e46c514</td>\n",
       "      <td>2022-03-05 14:32:43</td>\n",
       "      <td>7f5e86e6-f06f-45f6-bf44-27b095c9ad1d</td>\n",
       "      <td>fruit</td>\n",
       "      <td>basic</td>\n",
       "      <td>4.49</td>\n",
       "      <td>2</td>\n",
       "      <td>8.98</td>\n",
       "      <td>debit card</td>\n",
       "    </tr>\n",
       "  </tbody>\n",
       "</table>\n",
       "</div>"
      ],
      "text/plain": [
       "   Unnamed: 0                        transaction_id            timestamp  \\\n",
       "0           0  a1c82654-c52c-45b3-8ce8-4c2a1efe63ed  2022-03-02 09:51:38   \n",
       "1           1  931ad550-09e8-4da6-beaa-8c9d17be9c60  2022-03-06 10:33:59   \n",
       "2           2  ae133534-6f61-4cd6-b6b8-d1c1d8d90aea  2022-03-04 17:20:21   \n",
       "3           3  157cebd9-aaf0-475d-8a11-7c8e0f5b76e4  2022-03-02 17:23:58   \n",
       "4           4  a81a6cd3-5e0c-44a2-826c-aea43e46c514  2022-03-05 14:32:43   \n",
       "\n",
       "                             product_id category customer_type  unit_price  \\\n",
       "0  3bc6c1ea-0198-46de-9ffd-514ae3338713    fruit          gold        3.99   \n",
       "1  ad81b46c-bf38-41cf-9b54-5fe7f5eba93e    fruit      standard        3.99   \n",
       "2  7c55cbd4-f306-4c04-a030-628cbe7867c1    fruit       premium        0.19   \n",
       "3  80da8348-1707-403f-8be7-9e6deeccc883    fruit          gold        0.19   \n",
       "4  7f5e86e6-f06f-45f6-bf44-27b095c9ad1d    fruit         basic        4.49   \n",
       "\n",
       "   quantity  total payment_type  \n",
       "0         2   7.98     e-wallet  \n",
       "1         1   3.99     e-wallet  \n",
       "2         2   0.38     e-wallet  \n",
       "3         4   0.76     e-wallet  \n",
       "4         2   8.98   debit card  "
      ]
     },
     "execution_count": 2,
     "metadata": {},
     "output_type": "execute_result"
    }
   ],
   "source": [
    "data=pd.read_csv('/Users/Lovely_Ray/Desktop/data science/CTS/sample_sales_data.csv')\n",
    "#Taking a look at the first 5 rows of the dataset\n",
    "data.head()"
   ]
  },
  {
   "cell_type": "markdown",
   "id": "112ec69f",
   "metadata": {},
   "source": [
    "## Data Pre-processing"
   ]
  },
  {
   "cell_type": "code",
   "execution_count": 3,
   "id": "8d46e7d2",
   "metadata": {},
   "outputs": [
    {
     "data": {
      "text/plain": [
       "(7829, 10)"
      ]
     },
     "execution_count": 3,
     "metadata": {},
     "output_type": "execute_result"
    }
   ],
   "source": [
    "# the no of columns and rows in the data\n",
    "data.shape"
   ]
  },
  {
   "cell_type": "markdown",
   "id": "3f6edce3",
   "metadata": {},
   "source": [
    "** so we can see that the dataset has 7829 rows and 10 columns"
   ]
  },
  {
   "cell_type": "code",
   "execution_count": 4,
   "id": "9e2d453c",
   "metadata": {},
   "outputs": [
    {
     "name": "stdout",
     "output_type": "stream",
     "text": [
      "<class 'pandas.core.frame.DataFrame'>\n",
      "RangeIndex: 7829 entries, 0 to 7828\n",
      "Data columns (total 10 columns):\n",
      " #   Column          Non-Null Count  Dtype  \n",
      "---  ------          --------------  -----  \n",
      " 0   Unnamed: 0      7829 non-null   int64  \n",
      " 1   transaction_id  7829 non-null   object \n",
      " 2   timestamp       7829 non-null   object \n",
      " 3   product_id      7829 non-null   object \n",
      " 4   category        7829 non-null   object \n",
      " 5   customer_type   7829 non-null   object \n",
      " 6   unit_price      7829 non-null   float64\n",
      " 7   quantity        7829 non-null   int64  \n",
      " 8   total           7829 non-null   float64\n",
      " 9   payment_type    7829 non-null   object \n",
      "dtypes: float64(2), int64(2), object(6)\n",
      "memory usage: 611.8+ KB\n"
     ]
    }
   ],
   "source": [
    "# Checking datatypes of the each column\n",
    "data.info()"
   ]
  },
  {
   "cell_type": "code",
   "execution_count": 5,
   "id": "698e1284",
   "metadata": {},
   "outputs": [],
   "source": [
    "# Dropping unnecessary column 'unnamed'\n",
    "data=data.drop(['Unnamed: 0'],axis=1)"
   ]
  },
  {
   "cell_type": "code",
   "execution_count": 6,
   "id": "f032ea0a",
   "metadata": {},
   "outputs": [
    {
     "data": {
      "text/html": [
       "<div>\n",
       "<style scoped>\n",
       "    .dataframe tbody tr th:only-of-type {\n",
       "        vertical-align: middle;\n",
       "    }\n",
       "\n",
       "    .dataframe tbody tr th {\n",
       "        vertical-align: top;\n",
       "    }\n",
       "\n",
       "    .dataframe thead th {\n",
       "        text-align: right;\n",
       "    }\n",
       "</style>\n",
       "<table border=\"1\" class=\"dataframe\">\n",
       "  <thead>\n",
       "    <tr style=\"text-align: right;\">\n",
       "      <th></th>\n",
       "      <th>unit_price</th>\n",
       "      <th>quantity</th>\n",
       "      <th>total</th>\n",
       "    </tr>\n",
       "  </thead>\n",
       "  <tbody>\n",
       "    <tr>\n",
       "      <th>count</th>\n",
       "      <td>7829.000000</td>\n",
       "      <td>7829.000000</td>\n",
       "      <td>7829.000000</td>\n",
       "    </tr>\n",
       "    <tr>\n",
       "      <th>mean</th>\n",
       "      <td>7.819480</td>\n",
       "      <td>2.501597</td>\n",
       "      <td>19.709905</td>\n",
       "    </tr>\n",
       "    <tr>\n",
       "      <th>std</th>\n",
       "      <td>5.388088</td>\n",
       "      <td>1.122722</td>\n",
       "      <td>17.446680</td>\n",
       "    </tr>\n",
       "    <tr>\n",
       "      <th>min</th>\n",
       "      <td>0.190000</td>\n",
       "      <td>1.000000</td>\n",
       "      <td>0.190000</td>\n",
       "    </tr>\n",
       "    <tr>\n",
       "      <th>25%</th>\n",
       "      <td>3.990000</td>\n",
       "      <td>1.000000</td>\n",
       "      <td>6.570000</td>\n",
       "    </tr>\n",
       "    <tr>\n",
       "      <th>50%</th>\n",
       "      <td>7.190000</td>\n",
       "      <td>3.000000</td>\n",
       "      <td>14.970000</td>\n",
       "    </tr>\n",
       "    <tr>\n",
       "      <th>75%</th>\n",
       "      <td>11.190000</td>\n",
       "      <td>4.000000</td>\n",
       "      <td>28.470000</td>\n",
       "    </tr>\n",
       "    <tr>\n",
       "      <th>max</th>\n",
       "      <td>23.990000</td>\n",
       "      <td>4.000000</td>\n",
       "      <td>95.960000</td>\n",
       "    </tr>\n",
       "  </tbody>\n",
       "</table>\n",
       "</div>"
      ],
      "text/plain": [
       "        unit_price     quantity        total\n",
       "count  7829.000000  7829.000000  7829.000000\n",
       "mean      7.819480     2.501597    19.709905\n",
       "std       5.388088     1.122722    17.446680\n",
       "min       0.190000     1.000000     0.190000\n",
       "25%       3.990000     1.000000     6.570000\n",
       "50%       7.190000     3.000000    14.970000\n",
       "75%      11.190000     4.000000    28.470000\n",
       "max      23.990000     4.000000    95.960000"
      ]
     },
     "execution_count": 6,
     "metadata": {},
     "output_type": "execute_result"
    }
   ],
   "source": [
    "#statistical summary of the dataset for numerical variables\n",
    "data.describe()"
   ]
  },
  {
   "cell_type": "code",
   "execution_count": 7,
   "id": "3308ec5f",
   "metadata": {},
   "outputs": [],
   "source": [
    "#changing 'time stamp'column type to datatime\n",
    "data['timestamp']=pd.to_datetime(data['timestamp'], format='%Y-%m-%d %H:%M:%S')"
   ]
  },
  {
   "cell_type": "code",
   "execution_count": 8,
   "id": "ef5b38ae",
   "metadata": {},
   "outputs": [
    {
     "name": "stdout",
     "output_type": "stream",
     "text": [
      "<class 'pandas.core.frame.DataFrame'>\n",
      "RangeIndex: 7829 entries, 0 to 7828\n",
      "Data columns (total 9 columns):\n",
      " #   Column          Non-Null Count  Dtype         \n",
      "---  ------          --------------  -----         \n",
      " 0   transaction_id  7829 non-null   object        \n",
      " 1   timestamp       7829 non-null   datetime64[ns]\n",
      " 2   product_id      7829 non-null   object        \n",
      " 3   category        7829 non-null   object        \n",
      " 4   customer_type   7829 non-null   object        \n",
      " 5   unit_price      7829 non-null   float64       \n",
      " 6   quantity        7829 non-null   int64         \n",
      " 7   total           7829 non-null   float64       \n",
      " 8   payment_type    7829 non-null   object        \n",
      "dtypes: datetime64[ns](1), float64(2), int64(1), object(5)\n",
      "memory usage: 550.6+ KB\n"
     ]
    }
   ],
   "source": [
    "data.info()"
   ]
  },
  {
   "cell_type": "code",
   "execution_count": 9,
   "id": "868b7a26",
   "metadata": {},
   "outputs": [
    {
     "data": {
      "text/html": [
       "<div>\n",
       "<style scoped>\n",
       "    .dataframe tbody tr th:only-of-type {\n",
       "        vertical-align: middle;\n",
       "    }\n",
       "\n",
       "    .dataframe tbody tr th {\n",
       "        vertical-align: top;\n",
       "    }\n",
       "\n",
       "    .dataframe thead th {\n",
       "        text-align: right;\n",
       "    }\n",
       "</style>\n",
       "<table border=\"1\" class=\"dataframe\">\n",
       "  <thead>\n",
       "    <tr style=\"text-align: right;\">\n",
       "      <th></th>\n",
       "      <th>transaction_id</th>\n",
       "      <th>product_id</th>\n",
       "      <th>category</th>\n",
       "      <th>customer_type</th>\n",
       "      <th>payment_type</th>\n",
       "    </tr>\n",
       "  </thead>\n",
       "  <tbody>\n",
       "    <tr>\n",
       "      <th>count</th>\n",
       "      <td>7829</td>\n",
       "      <td>7829</td>\n",
       "      <td>7829</td>\n",
       "      <td>7829</td>\n",
       "      <td>7829</td>\n",
       "    </tr>\n",
       "    <tr>\n",
       "      <th>unique</th>\n",
       "      <td>7829</td>\n",
       "      <td>300</td>\n",
       "      <td>22</td>\n",
       "      <td>5</td>\n",
       "      <td>4</td>\n",
       "    </tr>\n",
       "    <tr>\n",
       "      <th>top</th>\n",
       "      <td>a1c82654-c52c-45b3-8ce8-4c2a1efe63ed</td>\n",
       "      <td>ecac012c-1dec-41d4-9ebd-56fb7166f6d9</td>\n",
       "      <td>fruit</td>\n",
       "      <td>non-member</td>\n",
       "      <td>cash</td>\n",
       "    </tr>\n",
       "    <tr>\n",
       "      <th>freq</th>\n",
       "      <td>1</td>\n",
       "      <td>114</td>\n",
       "      <td>998</td>\n",
       "      <td>1601</td>\n",
       "      <td>2027</td>\n",
       "    </tr>\n",
       "  </tbody>\n",
       "</table>\n",
       "</div>"
      ],
      "text/plain": [
       "                              transaction_id  \\\n",
       "count                                   7829   \n",
       "unique                                  7829   \n",
       "top     a1c82654-c52c-45b3-8ce8-4c2a1efe63ed   \n",
       "freq                                       1   \n",
       "\n",
       "                                  product_id category customer_type  \\\n",
       "count                                   7829     7829          7829   \n",
       "unique                                   300       22             5   \n",
       "top     ecac012c-1dec-41d4-9ebd-56fb7166f6d9    fruit    non-member   \n",
       "freq                                     114      998          1601   \n",
       "\n",
       "       payment_type  \n",
       "count          7829  \n",
       "unique            4  \n",
       "top            cash  \n",
       "freq           2027  "
      ]
     },
     "execution_count": 9,
     "metadata": {},
     "output_type": "execute_result"
    }
   ],
   "source": [
    "#Summary of data for categorical variables\n",
    "data.describe(include='O')"
   ]
  },
  {
   "cell_type": "code",
   "execution_count": 10,
   "id": "25bfd7c0",
   "metadata": {},
   "outputs": [
    {
     "data": {
      "text/html": [
       "<div>\n",
       "<style scoped>\n",
       "    .dataframe tbody tr th:only-of-type {\n",
       "        vertical-align: middle;\n",
       "    }\n",
       "\n",
       "    .dataframe tbody tr th {\n",
       "        vertical-align: top;\n",
       "    }\n",
       "\n",
       "    .dataframe thead th {\n",
       "        text-align: right;\n",
       "    }\n",
       "</style>\n",
       "<table border=\"1\" class=\"dataframe\">\n",
       "  <thead>\n",
       "    <tr style=\"text-align: right;\">\n",
       "      <th></th>\n",
       "      <th>transaction_id</th>\n",
       "      <th>timestamp</th>\n",
       "      <th>product_id</th>\n",
       "      <th>category</th>\n",
       "      <th>customer_type</th>\n",
       "      <th>unit_price</th>\n",
       "      <th>quantity</th>\n",
       "      <th>total</th>\n",
       "      <th>payment_type</th>\n",
       "      <th>date_year</th>\n",
       "    </tr>\n",
       "  </thead>\n",
       "  <tbody>\n",
       "    <tr>\n",
       "      <th>5002</th>\n",
       "      <td>3de09592-b92e-45bc-8265-93d7aa130197</td>\n",
       "      <td>2022-03-04 10:09:39</td>\n",
       "      <td>7f478817-aa5b-44e9-9059-8045228c9eb0</td>\n",
       "      <td>meat</td>\n",
       "      <td>premium</td>\n",
       "      <td>11.49</td>\n",
       "      <td>3</td>\n",
       "      <td>34.47</td>\n",
       "      <td>cash</td>\n",
       "      <td>2022</td>\n",
       "    </tr>\n",
       "    <tr>\n",
       "      <th>2136</th>\n",
       "      <td>2e749890-1bfb-4dbd-85cf-11b84763a283</td>\n",
       "      <td>2022-03-05 14:34:15</td>\n",
       "      <td>6880b9bc-31e4-470f-80d6-6a9088e1195a</td>\n",
       "      <td>refrigerated items</td>\n",
       "      <td>premium</td>\n",
       "      <td>8.19</td>\n",
       "      <td>2</td>\n",
       "      <td>16.38</td>\n",
       "      <td>debit card</td>\n",
       "      <td>2022</td>\n",
       "    </tr>\n",
       "    <tr>\n",
       "      <th>926</th>\n",
       "      <td>54d3a28c-1ce4-42ed-bbe9-2c580670bffc</td>\n",
       "      <td>2022-03-04 13:45:08</td>\n",
       "      <td>ecac012c-1dec-41d4-9ebd-56fb7166f6d9</td>\n",
       "      <td>fruit</td>\n",
       "      <td>non-member</td>\n",
       "      <td>4.99</td>\n",
       "      <td>2</td>\n",
       "      <td>9.98</td>\n",
       "      <td>cash</td>\n",
       "      <td>2022</td>\n",
       "    </tr>\n",
       "    <tr>\n",
       "      <th>4957</th>\n",
       "      <td>59884788-d7b4-45ff-a1ce-80254cd9dfbc</td>\n",
       "      <td>2022-03-06 14:59:19</td>\n",
       "      <td>3b6cb6b3-cc32-43e9-9cc5-28f750eeb8cf</td>\n",
       "      <td>meat</td>\n",
       "      <td>premium</td>\n",
       "      <td>20.49</td>\n",
       "      <td>1</td>\n",
       "      <td>20.49</td>\n",
       "      <td>debit card</td>\n",
       "      <td>2022</td>\n",
       "    </tr>\n",
       "    <tr>\n",
       "      <th>3053</th>\n",
       "      <td>68a0f8ed-d0c4-42f4-b1e9-a303d324603a</td>\n",
       "      <td>2022-03-07 12:33:50</td>\n",
       "      <td>7cb00b7d-207a-4179-8f47-297f7f15c555</td>\n",
       "      <td>canned foods</td>\n",
       "      <td>premium</td>\n",
       "      <td>8.99</td>\n",
       "      <td>2</td>\n",
       "      <td>17.98</td>\n",
       "      <td>e-wallet</td>\n",
       "      <td>2022</td>\n",
       "    </tr>\n",
       "  </tbody>\n",
       "</table>\n",
       "</div>"
      ],
      "text/plain": [
       "                            transaction_id           timestamp  \\\n",
       "5002  3de09592-b92e-45bc-8265-93d7aa130197 2022-03-04 10:09:39   \n",
       "2136  2e749890-1bfb-4dbd-85cf-11b84763a283 2022-03-05 14:34:15   \n",
       "926   54d3a28c-1ce4-42ed-bbe9-2c580670bffc 2022-03-04 13:45:08   \n",
       "4957  59884788-d7b4-45ff-a1ce-80254cd9dfbc 2022-03-06 14:59:19   \n",
       "3053  68a0f8ed-d0c4-42f4-b1e9-a303d324603a 2022-03-07 12:33:50   \n",
       "\n",
       "                                product_id            category customer_type  \\\n",
       "5002  7f478817-aa5b-44e9-9059-8045228c9eb0                meat       premium   \n",
       "2136  6880b9bc-31e4-470f-80d6-6a9088e1195a  refrigerated items       premium   \n",
       "926   ecac012c-1dec-41d4-9ebd-56fb7166f6d9               fruit    non-member   \n",
       "4957  3b6cb6b3-cc32-43e9-9cc5-28f750eeb8cf                meat       premium   \n",
       "3053  7cb00b7d-207a-4179-8f47-297f7f15c555        canned foods       premium   \n",
       "\n",
       "      unit_price  quantity  total payment_type  date_year  \n",
       "5002       11.49         3  34.47         cash       2022  \n",
       "2136        8.19         2  16.38   debit card       2022  \n",
       "926         4.99         2   9.98         cash       2022  \n",
       "4957       20.49         1  20.49   debit card       2022  \n",
       "3053        8.99         2  17.98     e-wallet       2022  "
      ]
     },
     "execution_count": 10,
     "metadata": {},
     "output_type": "execute_result"
    }
   ],
   "source": [
    "#Extracting year from the timetsamp\n",
    "data['date_year'] = data['timestamp'].dt.year\n",
    "\n",
    "data.sample(5)"
   ]
  },
  {
   "cell_type": "code",
   "execution_count": 11,
   "id": "b84c240b",
   "metadata": {},
   "outputs": [
    {
     "data": {
      "text/html": [
       "<div>\n",
       "<style scoped>\n",
       "    .dataframe tbody tr th:only-of-type {\n",
       "        vertical-align: middle;\n",
       "    }\n",
       "\n",
       "    .dataframe tbody tr th {\n",
       "        vertical-align: top;\n",
       "    }\n",
       "\n",
       "    .dataframe thead th {\n",
       "        text-align: right;\n",
       "    }\n",
       "</style>\n",
       "<table border=\"1\" class=\"dataframe\">\n",
       "  <thead>\n",
       "    <tr style=\"text-align: right;\">\n",
       "      <th></th>\n",
       "      <th>transaction_id</th>\n",
       "      <th>timestamp</th>\n",
       "      <th>product_id</th>\n",
       "      <th>category</th>\n",
       "      <th>customer_type</th>\n",
       "      <th>unit_price</th>\n",
       "      <th>quantity</th>\n",
       "      <th>total</th>\n",
       "      <th>payment_type</th>\n",
       "      <th>date_year</th>\n",
       "      <th>date_month_no</th>\n",
       "    </tr>\n",
       "  </thead>\n",
       "  <tbody>\n",
       "    <tr>\n",
       "      <th>1274</th>\n",
       "      <td>01041d7f-00df-4539-9d38-611fc6a1e8f9</td>\n",
       "      <td>2022-03-03 16:52:27</td>\n",
       "      <td>6370633a-ac41-42a1-a29e-56c14d63786f</td>\n",
       "      <td>vegetables</td>\n",
       "      <td>gold</td>\n",
       "      <td>2.49</td>\n",
       "      <td>2</td>\n",
       "      <td>4.98</td>\n",
       "      <td>debit card</td>\n",
       "      <td>2022</td>\n",
       "      <td>3</td>\n",
       "    </tr>\n",
       "    <tr>\n",
       "      <th>1385</th>\n",
       "      <td>e430d85d-a46e-44fd-8177-5065d1b9f95d</td>\n",
       "      <td>2022-03-07 10:04:49</td>\n",
       "      <td>01f3cdd9-8e9e-4dff-9b5c-69698a0388d0</td>\n",
       "      <td>vegetables</td>\n",
       "      <td>non-member</td>\n",
       "      <td>1.49</td>\n",
       "      <td>1</td>\n",
       "      <td>1.49</td>\n",
       "      <td>cash</td>\n",
       "      <td>2022</td>\n",
       "      <td>3</td>\n",
       "    </tr>\n",
       "    <tr>\n",
       "      <th>2514</th>\n",
       "      <td>2cc9b7a1-05ce-4492-b866-42569237289b</td>\n",
       "      <td>2022-03-02 09:26:22</td>\n",
       "      <td>371af9e4-5eae-4b90-b842-d7e532fa9943</td>\n",
       "      <td>frozen</td>\n",
       "      <td>standard</td>\n",
       "      <td>11.49</td>\n",
       "      <td>2</td>\n",
       "      <td>22.98</td>\n",
       "      <td>credit card</td>\n",
       "      <td>2022</td>\n",
       "      <td>3</td>\n",
       "    </tr>\n",
       "    <tr>\n",
       "      <th>2391</th>\n",
       "      <td>535ce5f9-6ad4-4b4d-9a50-a9181abfeb8f</td>\n",
       "      <td>2022-03-05 12:08:10</td>\n",
       "      <td>9e893e11-1646-4875-bc51-de14ed52b5ac</td>\n",
       "      <td>frozen</td>\n",
       "      <td>basic</td>\n",
       "      <td>11.99</td>\n",
       "      <td>3</td>\n",
       "      <td>35.97</td>\n",
       "      <td>debit card</td>\n",
       "      <td>2022</td>\n",
       "      <td>3</td>\n",
       "    </tr>\n",
       "    <tr>\n",
       "      <th>6852</th>\n",
       "      <td>58898328-bfd3-428e-a7bc-9be3b71ef31d</td>\n",
       "      <td>2022-03-05 12:30:32</td>\n",
       "      <td>2d2a0893-437e-4e57-94cf-d60deef4fcb5</td>\n",
       "      <td>personal care</td>\n",
       "      <td>basic</td>\n",
       "      <td>5.49</td>\n",
       "      <td>3</td>\n",
       "      <td>16.47</td>\n",
       "      <td>credit card</td>\n",
       "      <td>2022</td>\n",
       "      <td>3</td>\n",
       "    </tr>\n",
       "  </tbody>\n",
       "</table>\n",
       "</div>"
      ],
      "text/plain": [
       "                            transaction_id           timestamp  \\\n",
       "1274  01041d7f-00df-4539-9d38-611fc6a1e8f9 2022-03-03 16:52:27   \n",
       "1385  e430d85d-a46e-44fd-8177-5065d1b9f95d 2022-03-07 10:04:49   \n",
       "2514  2cc9b7a1-05ce-4492-b866-42569237289b 2022-03-02 09:26:22   \n",
       "2391  535ce5f9-6ad4-4b4d-9a50-a9181abfeb8f 2022-03-05 12:08:10   \n",
       "6852  58898328-bfd3-428e-a7bc-9be3b71ef31d 2022-03-05 12:30:32   \n",
       "\n",
       "                                product_id       category customer_type  \\\n",
       "1274  6370633a-ac41-42a1-a29e-56c14d63786f     vegetables          gold   \n",
       "1385  01f3cdd9-8e9e-4dff-9b5c-69698a0388d0     vegetables    non-member   \n",
       "2514  371af9e4-5eae-4b90-b842-d7e532fa9943         frozen      standard   \n",
       "2391  9e893e11-1646-4875-bc51-de14ed52b5ac         frozen         basic   \n",
       "6852  2d2a0893-437e-4e57-94cf-d60deef4fcb5  personal care         basic   \n",
       "\n",
       "      unit_price  quantity  total payment_type  date_year  date_month_no  \n",
       "1274        2.49         2   4.98   debit card       2022              3  \n",
       "1385        1.49         1   1.49         cash       2022              3  \n",
       "2514       11.49         2  22.98  credit card       2022              3  \n",
       "2391       11.99         3  35.97   debit card       2022              3  \n",
       "6852        5.49         3  16.47  credit card       2022              3  "
      ]
     },
     "execution_count": 11,
     "metadata": {},
     "output_type": "execute_result"
    }
   ],
   "source": [
    "#Extracting month from the timetsamp\n",
    "data['date_month_no'] = data['timestamp'].dt.month\n",
    "\n",
    "data.sample(5)"
   ]
  },
  {
   "cell_type": "code",
   "execution_count": 12,
   "id": "849f3c29",
   "metadata": {},
   "outputs": [
    {
     "data": {
      "text/html": [
       "<div>\n",
       "<style scoped>\n",
       "    .dataframe tbody tr th:only-of-type {\n",
       "        vertical-align: middle;\n",
       "    }\n",
       "\n",
       "    .dataframe tbody tr th {\n",
       "        vertical-align: top;\n",
       "    }\n",
       "\n",
       "    .dataframe thead th {\n",
       "        text-align: right;\n",
       "    }\n",
       "</style>\n",
       "<table border=\"1\" class=\"dataframe\">\n",
       "  <thead>\n",
       "    <tr style=\"text-align: right;\">\n",
       "      <th></th>\n",
       "      <th>transaction_id</th>\n",
       "      <th>timestamp</th>\n",
       "      <th>product_id</th>\n",
       "      <th>category</th>\n",
       "      <th>customer_type</th>\n",
       "      <th>unit_price</th>\n",
       "      <th>quantity</th>\n",
       "      <th>total</th>\n",
       "      <th>payment_type</th>\n",
       "      <th>date_year</th>\n",
       "      <th>date_month_no</th>\n",
       "      <th>date_day</th>\n",
       "    </tr>\n",
       "  </thead>\n",
       "  <tbody>\n",
       "    <tr>\n",
       "      <th>6523</th>\n",
       "      <td>6e54ee81-42d6-4f3d-8c41-06cc65c18c66</td>\n",
       "      <td>2022-03-03 14:09:00</td>\n",
       "      <td>9edd33d5-6d29-4094-ba4d-14ab68e85807</td>\n",
       "      <td>baby products</td>\n",
       "      <td>non-member</td>\n",
       "      <td>9.99</td>\n",
       "      <td>1</td>\n",
       "      <td>9.99</td>\n",
       "      <td>e-wallet</td>\n",
       "      <td>2022</td>\n",
       "      <td>3</td>\n",
       "      <td>3</td>\n",
       "    </tr>\n",
       "    <tr>\n",
       "      <th>2875</th>\n",
       "      <td>0976bf8f-1e2c-4f55-a235-c5ca2b80f956</td>\n",
       "      <td>2022-03-05 18:11:07</td>\n",
       "      <td>db69f72a-b98c-4f5d-9b47-1067b9da74c7</td>\n",
       "      <td>canned foods</td>\n",
       "      <td>standard</td>\n",
       "      <td>3.49</td>\n",
       "      <td>3</td>\n",
       "      <td>10.47</td>\n",
       "      <td>e-wallet</td>\n",
       "      <td>2022</td>\n",
       "      <td>3</td>\n",
       "      <td>5</td>\n",
       "    </tr>\n",
       "    <tr>\n",
       "      <th>3974</th>\n",
       "      <td>1a4d6d6c-4c4a-4650-a7ea-902548417891</td>\n",
       "      <td>2022-03-07 18:16:42</td>\n",
       "      <td>a1b5b743-988d-448c-b9b4-892359891331</td>\n",
       "      <td>beverages</td>\n",
       "      <td>premium</td>\n",
       "      <td>12.49</td>\n",
       "      <td>1</td>\n",
       "      <td>12.49</td>\n",
       "      <td>cash</td>\n",
       "      <td>2022</td>\n",
       "      <td>3</td>\n",
       "      <td>7</td>\n",
       "    </tr>\n",
       "    <tr>\n",
       "      <th>5254</th>\n",
       "      <td>198750ba-d78b-43c7-8587-a528f6df5fc9</td>\n",
       "      <td>2022-03-04 12:53:33</td>\n",
       "      <td>b4c404b8-6075-4b35-8b87-976e4ce3abd0</td>\n",
       "      <td>seafood</td>\n",
       "      <td>premium</td>\n",
       "      <td>18.19</td>\n",
       "      <td>1</td>\n",
       "      <td>18.19</td>\n",
       "      <td>cash</td>\n",
       "      <td>2022</td>\n",
       "      <td>3</td>\n",
       "      <td>4</td>\n",
       "    </tr>\n",
       "    <tr>\n",
       "      <th>7288</th>\n",
       "      <td>b58327e6-d3a7-4ba7-9019-cd2044d7290d</td>\n",
       "      <td>2022-03-04 19:34:52</td>\n",
       "      <td>19ab62ef-c7aa-4035-a0fc-7c7d64721cda</td>\n",
       "      <td>kitchen</td>\n",
       "      <td>premium</td>\n",
       "      <td>18.19</td>\n",
       "      <td>4</td>\n",
       "      <td>72.76</td>\n",
       "      <td>cash</td>\n",
       "      <td>2022</td>\n",
       "      <td>3</td>\n",
       "      <td>4</td>\n",
       "    </tr>\n",
       "  </tbody>\n",
       "</table>\n",
       "</div>"
      ],
      "text/plain": [
       "                            transaction_id           timestamp  \\\n",
       "6523  6e54ee81-42d6-4f3d-8c41-06cc65c18c66 2022-03-03 14:09:00   \n",
       "2875  0976bf8f-1e2c-4f55-a235-c5ca2b80f956 2022-03-05 18:11:07   \n",
       "3974  1a4d6d6c-4c4a-4650-a7ea-902548417891 2022-03-07 18:16:42   \n",
       "5254  198750ba-d78b-43c7-8587-a528f6df5fc9 2022-03-04 12:53:33   \n",
       "7288  b58327e6-d3a7-4ba7-9019-cd2044d7290d 2022-03-04 19:34:52   \n",
       "\n",
       "                                product_id       category customer_type  \\\n",
       "6523  9edd33d5-6d29-4094-ba4d-14ab68e85807  baby products    non-member   \n",
       "2875  db69f72a-b98c-4f5d-9b47-1067b9da74c7   canned foods      standard   \n",
       "3974  a1b5b743-988d-448c-b9b4-892359891331      beverages       premium   \n",
       "5254  b4c404b8-6075-4b35-8b87-976e4ce3abd0        seafood       premium   \n",
       "7288  19ab62ef-c7aa-4035-a0fc-7c7d64721cda        kitchen       premium   \n",
       "\n",
       "      unit_price  quantity  total payment_type  date_year  date_month_no  \\\n",
       "6523        9.99         1   9.99     e-wallet       2022              3   \n",
       "2875        3.49         3  10.47     e-wallet       2022              3   \n",
       "3974       12.49         1  12.49         cash       2022              3   \n",
       "5254       18.19         1  18.19         cash       2022              3   \n",
       "7288       18.19         4  72.76         cash       2022              3   \n",
       "\n",
       "      date_day  \n",
       "6523         3  \n",
       "2875         5  \n",
       "3974         7  \n",
       "5254         4  \n",
       "7288         4  "
      ]
     },
     "execution_count": 12,
     "metadata": {},
     "output_type": "execute_result"
    }
   ],
   "source": [
    "#Extracting day from the timetsamp\n",
    "data['date_day'] = data['timestamp'].dt.day\n",
    "\n",
    "data.sample(5)"
   ]
  },
  {
   "cell_type": "markdown",
   "id": "421f5153",
   "metadata": {},
   "source": [
    "## EDA"
   ]
  },
  {
   "cell_type": "code",
   "execution_count": 13,
   "id": "de0e5edf",
   "metadata": {},
   "outputs": [
    {
     "data": {
      "text/plain": [
       "(7829, 12)"
      ]
     },
     "execution_count": 13,
     "metadata": {},
     "output_type": "execute_result"
    }
   ],
   "source": [
    "data.shape"
   ]
  },
  {
   "cell_type": "code",
   "execution_count": 14,
   "id": "981d399f",
   "metadata": {},
   "outputs": [
    {
     "name": "stdout",
     "output_type": "stream",
     "text": [
      "<class 'pandas.core.frame.DataFrame'>\n",
      "RangeIndex: 7829 entries, 0 to 7828\n",
      "Data columns (total 12 columns):\n",
      " #   Column          Non-Null Count  Dtype         \n",
      "---  ------          --------------  -----         \n",
      " 0   transaction_id  7829 non-null   object        \n",
      " 1   timestamp       7829 non-null   datetime64[ns]\n",
      " 2   product_id      7829 non-null   object        \n",
      " 3   category        7829 non-null   object        \n",
      " 4   customer_type   7829 non-null   object        \n",
      " 5   unit_price      7829 non-null   float64       \n",
      " 6   quantity        7829 non-null   int64         \n",
      " 7   total           7829 non-null   float64       \n",
      " 8   payment_type    7829 non-null   object        \n",
      " 9   date_year       7829 non-null   int64         \n",
      " 10  date_month_no   7829 non-null   int64         \n",
      " 11  date_day        7829 non-null   int64         \n",
      "dtypes: datetime64[ns](1), float64(2), int64(4), object(5)\n",
      "memory usage: 734.1+ KB\n"
     ]
    }
   ],
   "source": [
    "data.info()"
   ]
  },
  {
   "cell_type": "code",
   "execution_count": 15,
   "id": "3e3647c2",
   "metadata": {},
   "outputs": [
    {
     "data": {
      "text/plain": [
       "transaction_id    0\n",
       "timestamp         0\n",
       "product_id        0\n",
       "category          0\n",
       "customer_type     0\n",
       "unit_price        0\n",
       "quantity          0\n",
       "total             0\n",
       "payment_type      0\n",
       "date_year         0\n",
       "date_month_no     0\n",
       "date_day          0\n",
       "dtype: int64"
      ]
     },
     "execution_count": 15,
     "metadata": {},
     "output_type": "execute_result"
    }
   ],
   "source": [
    "##Finding missing values in the dataset\n",
    "data.isna().sum()"
   ]
  },
  {
   "cell_type": "markdown",
   "id": "2a93089b",
   "metadata": {},
   "source": [
    "** We don't have any missing values in the dataset"
   ]
  },
  {
   "cell_type": "code",
   "execution_count": 16,
   "id": "8a23edeb",
   "metadata": {},
   "outputs": [
    {
     "data": {
      "text/plain": [
       "0"
      ]
     },
     "execution_count": 16,
     "metadata": {},
     "output_type": "execute_result"
    }
   ],
   "source": [
    "# Find Duplicate Values\n",
    "data.duplicated().sum()"
   ]
  },
  {
   "cell_type": "markdown",
   "id": "5d0a1177",
   "metadata": {},
   "source": [
    "** We don't have any duplicate values in the dataset"
   ]
  },
  {
   "cell_type": "markdown",
   "id": "859855c4",
   "metadata": {},
   "source": [
    "### Visualizations of the categorical variables"
   ]
  },
  {
   "cell_type": "code",
   "execution_count": 17,
   "id": "9fa49ca8",
   "metadata": {},
   "outputs": [
    {
     "data": {
      "text/plain": [
       "Index(['transaction_id', 'timestamp', 'product_id', 'category',\n",
       "       'customer_type', 'unit_price', 'quantity', 'total', 'payment_type',\n",
       "       'date_year', 'date_month_no', 'date_day'],\n",
       "      dtype='object')"
      ]
     },
     "execution_count": 17,
     "metadata": {},
     "output_type": "execute_result"
    }
   ],
   "source": [
    "data.columns"
   ]
  },
  {
   "cell_type": "code",
   "execution_count": 18,
   "id": "3946d429",
   "metadata": {},
   "outputs": [
    {
     "data": {
      "text/plain": [
       "ecac012c-1dec-41d4-9ebd-56fb7166f6d9    114\n",
       "80da8348-1707-403f-8be7-9e6deeccc883    109\n",
       "0ddc2379-adba-4fb0-aa97-19fcafc738a1    108\n",
       "7c55cbd4-f306-4c04-a030-628cbe7867c1    104\n",
       "3bc6c1ea-0198-46de-9ffd-514ae3338713    101\n",
       "                                       ... \n",
       "49f7d4a9-713a-4824-b378-aebb33ff8b2f      5\n",
       "a8fab83a-16d4-4db0-a83a-f824ecd8604a      5\n",
       "c8de27d0-2c44-4b5a-b178-59c45d054ccb      5\n",
       "5adfc643-aa8e-4140-b2c3-98a946444632      5\n",
       "ec0bb9b5-45e3-4de8-963d-e92aa91a201e      3\n",
       "Name: product_id, Length: 300, dtype: int64"
      ]
     },
     "execution_count": 18,
     "metadata": {},
     "output_type": "execute_result"
    }
   ],
   "source": [
    "data['product_id'].value_counts()"
   ]
  },
  {
   "cell_type": "code",
   "execution_count": 19,
   "id": "48382200",
   "metadata": {},
   "outputs": [
    {
     "data": {
      "text/plain": [
       "300"
      ]
     },
     "execution_count": 19,
     "metadata": {},
     "output_type": "execute_result"
    }
   ],
   "source": [
    "data['product_id'].nunique()"
   ]
  },
  {
   "cell_type": "code",
   "execution_count": 20,
   "id": "de9cdc23",
   "metadata": {},
   "outputs": [
    {
     "data": {
      "text/plain": [
       "fruit                    998\n",
       "vegetables               846\n",
       "packaged foods           507\n",
       "baked goods              443\n",
       "canned foods             431\n",
       "refrigerated items       425\n",
       "kitchen                  382\n",
       "meat                     382\n",
       "dairy                    375\n",
       "beverages                301\n",
       "cheese                   293\n",
       "cleaning products        292\n",
       "baking                   264\n",
       "snacks                   263\n",
       "frozen                   263\n",
       "seafood                  253\n",
       "medicine                 243\n",
       "baby products            224\n",
       "condiments and sauces    181\n",
       "personal care            177\n",
       "pets                     161\n",
       "spices and herbs         125\n",
       "Name: category, dtype: int64"
      ]
     },
     "execution_count": 20,
     "metadata": {},
     "output_type": "execute_result"
    }
   ],
   "source": [
    "data['category'].value_counts()"
   ]
  },
  {
   "cell_type": "code",
   "execution_count": 21,
   "id": "42b5ba3d",
   "metadata": {},
   "outputs": [
    {
     "data": {
      "text/plain": [
       "22"
      ]
     },
     "execution_count": 21,
     "metadata": {},
     "output_type": "execute_result"
    }
   ],
   "source": [
    "data['category'].nunique()"
   ]
  },
  {
   "cell_type": "markdown",
   "id": "f845efab",
   "metadata": {},
   "source": [
    "*** total 22 unique category present"
   ]
  },
  {
   "cell_type": "code",
   "execution_count": 22,
   "id": "41f684b3",
   "metadata": {},
   "outputs": [
    {
     "data": {
      "text/plain": [
       "1"
      ]
     },
     "execution_count": 22,
     "metadata": {},
     "output_type": "execute_result"
    }
   ],
   "source": [
    "data['date_year'].nunique()"
   ]
  },
  {
   "cell_type": "markdown",
   "id": "0e08893a",
   "metadata": {},
   "source": [
    "*** the data is only for the year 2022"
   ]
  },
  {
   "cell_type": "code",
   "execution_count": 23,
   "id": "0a8025d2",
   "metadata": {},
   "outputs": [
    {
     "data": {
      "text/plain": [
       "1"
      ]
     },
     "execution_count": 23,
     "metadata": {},
     "output_type": "execute_result"
    }
   ],
   "source": [
    "data['date_month_no'].nunique()"
   ]
  },
  {
   "cell_type": "markdown",
   "id": "a4c3dc1c",
   "metadata": {},
   "source": [
    "*** The data is only for the month of March"
   ]
  },
  {
   "cell_type": "code",
   "execution_count": 24,
   "id": "e2209c72",
   "metadata": {},
   "outputs": [
    {
     "data": {
      "text/plain": [
       "array([2, 6, 4, 5, 7, 1, 3])"
      ]
     },
     "execution_count": 24,
     "metadata": {},
     "output_type": "execute_result"
    }
   ],
   "source": [
    "data['date_day'].unique()"
   ]
  },
  {
   "cell_type": "markdown",
   "id": "e68e074e",
   "metadata": {},
   "source": [
    "*** The data is for the first 7 days of March,2022"
   ]
  },
  {
   "cell_type": "code",
   "execution_count": 25,
   "id": "f9cca84f",
   "metadata": {},
   "outputs": [
    {
     "data": {
      "text/plain": [
       "2    1168\n",
       "1    1165\n",
       "6    1132\n",
       "4    1108\n",
       "7    1104\n",
       "3    1078\n",
       "5    1074\n",
       "Name: date_day, dtype: int64"
      ]
     },
     "execution_count": 25,
     "metadata": {},
     "output_type": "execute_result"
    }
   ],
   "source": [
    "data['date_day'].value_counts()"
   ]
  },
  {
   "cell_type": "code",
   "execution_count": 43,
   "id": "63ee9193",
   "metadata": {},
   "outputs": [
    {
     "data": {
      "text/plain": [
       "<AxesSubplot:xlabel='category', ylabel='count'>"
      ]
     },
     "execution_count": 43,
     "metadata": {},
     "output_type": "execute_result"
    },
    {
     "data": {
      "image/png": "[encoded data removed]",
      "text/plain": [
       "<Figure size 864x432 with 1 Axes>"
      ]
     },
     "metadata": {},
     "output_type": "display_data"
    }
   ],
   "source": [
    "sns.countplot(data=data,x='category',palette='flare',hue='quantity')"
   ]
  },
  {
   "cell_type": "markdown",
   "id": "a47b5a22",
   "metadata": {},
   "source": [
    "*** we can say that fruits and vegetables are sold in most quantities."
   ]
  },
  {
   "cell_type": "code",
   "execution_count": 42,
   "id": "0a0a1647",
   "metadata": {},
   "outputs": [
    {
     "data": {
      "text/plain": [
       "<AxesSubplot:xlabel='date_day', ylabel='count'>"
      ]
     },
     "execution_count": 42,
     "metadata": {},
     "output_type": "execute_result"
    },
    {
     "data": {
      "image/png": "[encoded data removed]",
      "text/plain": [
       "<Figure size 864x432 with 1 Axes>"
      ]
     },
     "metadata": {},
     "output_type": "display_data"
    }
   ],
   "source": [
    "sns.countplot(data=data,x='date_day',palette='crest',hue='quantity')"
   ]
  },
  {
   "cell_type": "markdown",
   "id": "d72d26a6",
   "metadata": {},
   "source": [
    "*** the above visualization denotes that there is hardly any difference in quantity daywise in this month. "
   ]
  },
  {
   "cell_type": "code",
   "execution_count": 27,
   "id": "d2067db0",
   "metadata": {},
   "outputs": [
    {
     "data": {
      "text/plain": [
       "non-member    1601\n",
       "standard      1595\n",
       "premium       1590\n",
       "basic         1526\n",
       "gold          1517\n",
       "Name: customer_type, dtype: int64"
      ]
     },
     "execution_count": 27,
     "metadata": {},
     "output_type": "execute_result"
    }
   ],
   "source": [
    "data['customer_type'].value_counts()"
   ]
  },
  {
   "cell_type": "code",
   "execution_count": 29,
   "id": "b7dd97bf",
   "metadata": {},
   "outputs": [
    {
     "data": {
      "text/plain": [
       "cash           2027\n",
       "credit card    1949\n",
       "e-wallet       1935\n",
       "debit card     1918\n",
       "Name: payment_type, dtype: int64"
      ]
     },
     "execution_count": 29,
     "metadata": {},
     "output_type": "execute_result"
    }
   ],
   "source": [
    "data['payment_type'].value_counts()"
   ]
  },
  {
   "cell_type": "code",
   "execution_count": 45,
   "id": "8778936e",
   "metadata": {},
   "outputs": [
    {
     "data": {
      "text/plain": [
       "<AxesSubplot:xlabel='customer_type', ylabel='count'>"
      ]
     },
     "execution_count": 45,
     "metadata": {},
     "output_type": "execute_result"
    },
    {
     "data": {
      "image/png": "[encoded data removed]",
      "text/plain": [
       "<Figure size 864x432 with 1 Axes>"
      ]
     },
     "metadata": {},
     "output_type": "display_data"
    }
   ],
   "source": [
    "sns.countplot(data=data,x='customer_type',palette='Spectral',hue='payment_type')"
   ]
  },
  {
   "cell_type": "markdown",
   "id": "fd98303f",
   "metadata": {},
   "source": [
    "*** We observe that Gold customers use e-wallet more than other payment types. whereas standad and premium customers mostly using cash.credit card and debit card are used across all customer types. Overall we can say that all 4 kinds of payment types are used on a great scale across all customer types."
   ]
  },
  {
   "cell_type": "code",
   "execution_count": 46,
   "id": "13241074",
   "metadata": {},
   "outputs": [
    {
     "data": {
      "text/plain": [
       "<AxesSubplot:xlabel='quantity', ylabel='count'>"
      ]
     },
     "execution_count": 46,
     "metadata": {},
     "output_type": "execute_result"
    },
    {
     "data": {
      "image/png": "[encoded data removed]",
      "text/plain": [
       "<Figure size 864x432 with 1 Axes>"
      ]
     },
     "metadata": {},
     "output_type": "display_data"
    }
   ],
   "source": [
    "sns.countplot(data=data,x='quantity',palette='rocket',hue='payment_type')"
   ]
  },
  {
   "cell_type": "markdown",
   "id": "f844ab3e",
   "metadata": {},
   "source": [
    "*** The above countplot depicts a relationship between quantity and payment type. so we can see there is not much difference regarding payment type across quantities bought."
   ]
  },
  {
   "cell_type": "code",
   "execution_count": 31,
   "id": "cd62ca80",
   "metadata": {},
   "outputs": [
    {
     "data": {
      "text/plain": [
       "1    1979\n",
       "4    1976\n",
       "3    1954\n",
       "2    1920\n",
       "Name: quantity, dtype: int64"
      ]
     },
     "execution_count": 31,
     "metadata": {},
     "output_type": "execute_result"
    }
   ],
   "source": [
    "data['quantity'].value_counts()"
   ]
  },
  {
   "cell_type": "code",
   "execution_count": 33,
   "id": "1fd91499",
   "metadata": {},
   "outputs": [
    {
     "data": {
      "text/plain": [
       "7738"
      ]
     },
     "execution_count": 33,
     "metadata": {},
     "output_type": "execute_result"
    }
   ],
   "source": [
    "data['timestamp'].nunique()"
   ]
  },
  {
   "cell_type": "markdown",
   "id": "8c6e9b40",
   "metadata": {},
   "source": [
    "### Visualizations of the numerical variables"
   ]
  },
  {
   "cell_type": "code",
   "execution_count": 34,
   "id": "a04a2b11",
   "metadata": {},
   "outputs": [
    {
     "data": {
      "text/plain": [
       "Index(['transaction_id', 'timestamp', 'product_id', 'category',\n",
       "       'customer_type', 'unit_price', 'quantity', 'total', 'payment_type',\n",
       "       'date_year', 'date_month_no', 'date_day'],\n",
       "      dtype='object')"
      ]
     },
     "execution_count": 34,
     "metadata": {},
     "output_type": "execute_result"
    }
   ],
   "source": [
    "data.columns"
   ]
  },
  {
   "cell_type": "code",
   "execution_count": 35,
   "id": "7fc2a198",
   "metadata": {},
   "outputs": [
    {
     "data": {
      "image/png": "[encoded data removed]",
      "text/plain": [
       "<Figure size 864x432 with 1 Axes>"
      ]
     },
     "metadata": {},
     "output_type": "display_data"
    },
    {
     "data": {
      "image/png": "[encoded data removed]",
      "text/plain": [
       "<Figure size 864x432 with 1 Axes>"
      ]
     },
     "metadata": {},
     "output_type": "display_data"
    }
   ],
   "source": [
    "numerical_columns = ['unit_price', 'total']\n",
    "for column in numerical_columns:\n",
    "    data.boxplot(column)\n",
    "    plt.show()"
   ]
  },
  {
   "cell_type": "code",
   "execution_count": 36,
   "id": "d64c1e61",
   "metadata": {},
   "outputs": [
    {
     "data": {
      "image/png": "[encoded data removed]",
      "text/plain": [
       "<Figure size 864x432 with 1 Axes>"
      ]
     },
     "metadata": {},
     "output_type": "display_data"
    }
   ],
   "source": [
    "sns.distplot(a=data.unit_price)\n",
    "plt.show()"
   ]
  },
  {
   "cell_type": "markdown",
   "id": "ac7f1cee",
   "metadata": {},
   "source": [
    "*** the above distribution plot that uniot price is not a normally distributed data. the data is positively skewed."
   ]
  },
  {
   "cell_type": "code",
   "execution_count": 37,
   "id": "529ad859",
   "metadata": {},
   "outputs": [
    {
     "data": {
      "image/png": "[encoded data removed]",
      "text/plain": [
       "<Figure size 864x432 with 1 Axes>"
      ]
     },
     "metadata": {},
     "output_type": "display_data"
    }
   ],
   "source": [
    "sns.distplot(a=data.total)\n",
    "plt.show()"
   ]
  },
  {
   "cell_type": "markdown",
   "id": "0dedd1fa",
   "metadata": {},
   "source": [
    "*** the above data for total is normally distributed but positively skewed data."
   ]
  },
  {
   "cell_type": "code",
   "execution_count": 38,
   "id": "0e64d2fe",
   "metadata": {},
   "outputs": [
    {
     "data": {
      "image/png": "[encoded data removed]",
      "text/plain": [
       "<Figure size 864x432 with 1 Axes>"
      ]
     },
     "metadata": {},
     "output_type": "display_data"
    }
   ],
   "source": [
    "#scatter plot\n",
    "data.plot(\n",
    "    x='total', \n",
    "    y='unit_price', \n",
    "    kind='scatter', \n",
    "    c='cornflowerblue',\n",
    "    title='total vs unit price',\n",
    "    xlabel='total',\n",
    "    ylabel='unit price'\n",
    ")\n",
    "\n",
    "plt.show()"
   ]
  },
  {
   "cell_type": "code",
   "execution_count": 39,
   "id": "6ca59657",
   "metadata": {},
   "outputs": [
    {
     "data": {
      "text/html": [
       "<div>\n",
       "<style scoped>\n",
       "    .dataframe tbody tr th:only-of-type {\n",
       "        vertical-align: middle;\n",
       "    }\n",
       "\n",
       "    .dataframe tbody tr th {\n",
       "        vertical-align: top;\n",
       "    }\n",
       "\n",
       "    .dataframe thead th {\n",
       "        text-align: right;\n",
       "    }\n",
       "</style>\n",
       "<table border=\"1\" class=\"dataframe\">\n",
       "  <thead>\n",
       "    <tr style=\"text-align: right;\">\n",
       "      <th></th>\n",
       "      <th>unit_price</th>\n",
       "      <th>quantity</th>\n",
       "      <th>total</th>\n",
       "      <th>date_year</th>\n",
       "      <th>date_month_no</th>\n",
       "      <th>date_day</th>\n",
       "    </tr>\n",
       "  </thead>\n",
       "  <tbody>\n",
       "    <tr>\n",
       "      <th>unit_price</th>\n",
       "      <td>1.000000</td>\n",
       "      <td>0.024588</td>\n",
       "      <td>0.792018</td>\n",
       "      <td>NaN</td>\n",
       "      <td>NaN</td>\n",
       "      <td>0.026421</td>\n",
       "    </tr>\n",
       "    <tr>\n",
       "      <th>quantity</th>\n",
       "      <td>0.024588</td>\n",
       "      <td>1.000000</td>\n",
       "      <td>0.521926</td>\n",
       "      <td>NaN</td>\n",
       "      <td>NaN</td>\n",
       "      <td>-0.002321</td>\n",
       "    </tr>\n",
       "    <tr>\n",
       "      <th>total</th>\n",
       "      <td>0.792018</td>\n",
       "      <td>0.521926</td>\n",
       "      <td>1.000000</td>\n",
       "      <td>NaN</td>\n",
       "      <td>NaN</td>\n",
       "      <td>0.016510</td>\n",
       "    </tr>\n",
       "    <tr>\n",
       "      <th>date_year</th>\n",
       "      <td>NaN</td>\n",
       "      <td>NaN</td>\n",
       "      <td>NaN</td>\n",
       "      <td>NaN</td>\n",
       "      <td>NaN</td>\n",
       "      <td>NaN</td>\n",
       "    </tr>\n",
       "    <tr>\n",
       "      <th>date_month_no</th>\n",
       "      <td>NaN</td>\n",
       "      <td>NaN</td>\n",
       "      <td>NaN</td>\n",
       "      <td>NaN</td>\n",
       "      <td>NaN</td>\n",
       "      <td>NaN</td>\n",
       "    </tr>\n",
       "    <tr>\n",
       "      <th>date_day</th>\n",
       "      <td>0.026421</td>\n",
       "      <td>-0.002321</td>\n",
       "      <td>0.016510</td>\n",
       "      <td>NaN</td>\n",
       "      <td>NaN</td>\n",
       "      <td>1.000000</td>\n",
       "    </tr>\n",
       "  </tbody>\n",
       "</table>\n",
       "</div>"
      ],
      "text/plain": [
       "               unit_price  quantity     total  date_year  date_month_no  \\\n",
       "unit_price       1.000000  0.024588  0.792018        NaN            NaN   \n",
       "quantity         0.024588  1.000000  0.521926        NaN            NaN   \n",
       "total            0.792018  0.521926  1.000000        NaN            NaN   \n",
       "date_year             NaN       NaN       NaN        NaN            NaN   \n",
       "date_month_no         NaN       NaN       NaN        NaN            NaN   \n",
       "date_day         0.026421 -0.002321  0.016510        NaN            NaN   \n",
       "\n",
       "               date_day  \n",
       "unit_price     0.026421  \n",
       "quantity      -0.002321  \n",
       "total          0.016510  \n",
       "date_year           NaN  \n",
       "date_month_no       NaN  \n",
       "date_day       1.000000  "
      ]
     },
     "execution_count": 39,
     "metadata": {},
     "output_type": "execute_result"
    }
   ],
   "source": [
    "# Checking correlation\n",
    "data.corr()"
   ]
  },
  {
   "cell_type": "code",
   "execution_count": 40,
   "id": "ee1445a8",
   "metadata": {},
   "outputs": [
    {
     "data": {
      "image/png": "[encoded data removed]",
      "text/plain": [
       "<Figure size 1440x1080 with 2 Axes>"
      ]
     },
     "metadata": {},
     "output_type": "display_data"
    }
   ],
   "source": [
    "#Heatmap\n",
    "plt.figure(figsize=(20,15))\n",
    "sns.set(style=\"white\")\n",
    "sns.heatmap(data.corr(),annot=True,cmap=\"coolwarm\" )\n",
    "plt.show()"
   ]
  },
  {
   "cell_type": "markdown",
   "id": "419cc35a",
   "metadata": {},
   "source": [
    "## Summary"
   ]
  },
  {
   "cell_type": "markdown",
   "id": "0f8092ad",
   "metadata": {},
   "source": [
    "### since we have now completed an initial exploratory data analysis on the sample of data provided, we are clear on the data now. \n",
    "\n",
    "#### The main question of the client is \"How to better stock the items that they sell\"\n",
    "\n",
    "*** From this dataset, it is impossible to answer that question. Now we have only some vague statistics which in no way reliable as the data sample is from 1 store and 1 week worth of data. In order to make the next step on this project with the client, it is clear that:\n",
    "\n",
    "***  We need more rows of data.\n",
    "\n",
    "***  Since the current business problem is too broad, we have to narrow down the focus in order to deliver a valuable end product.\n",
    "\n",
    "*** We need more features. Based on the problem statement that we move forward with, we need more columns (features) like 'stocks at the begining of the day', 'stocks at the end of the day', 'returned item count(if any) at the end of the day','category-wise self-life', just to name a few, that might help us to address the specific problem and understand the outcome that we're solving for."
   ]
  },
  {
   "cell_type": "code",
   "execution_count": null,
   "id": "a39b048c",
   "metadata": {},
   "outputs": [],
   "source": []
  }
 ],
 "metadata": {
  "kernelspec": {
   "display_name": "Python 3 (ipykernel)",
   "language": "python",
   "name": "python3"
  },
  "language_info": {
   "codemirror_mode": {
    "name": "ipython",
    "version": 3
   },
   "file_extension": ".py",
   "mimetype": "text/x-python",
   "name": "python",
   "nbconvert_exporter": "python",
   "pygments_lexer": "ipython3",
   "version": "3.9.12"
  },
  "toc": {
   "base_numbering": 1,
   "nav_menu": {},
   "number_sections": true,
   "sideBar": true,
   "skip_h1_title": false,
   "title_cell": "Table of Contents",
   "title_sidebar": "Contents",
   "toc_cell": false,
   "toc_position": {},
   "toc_section_display": true,
   "toc_window_display": true
  }
 },
 "nbformat": 4,
 "nbformat_minor": 5
}
